{
 "cells": [
  {
   "cell_type": "code",
   "execution_count": 1,
   "metadata": {},
   "outputs": [
    {
     "name": "stdout",
     "output_type": "stream",
     "text": [
      "-------------------\n",
      "Imported at \n",
      "2019-11-05 18:12:48.180890\n",
      "-------------------\n",
      "Detecting OS type...\n",
      "OS : Linux\n",
      "Now installing...\n",
      "Successfully Installed!!\n"
     ]
    }
   ],
   "source": [
    "import os\n",
    "import sys\n",
    "sys.path.append(\"./src/PySiCroFClass/SiCroF\")\n",
    "from src.PySiCroFClass.SiCroF import SiCroF"
   ]
  },
  {
   "cell_type": "code",
   "execution_count": 2,
   "metadata": {},
   "outputs": [
    {
     "name": "stdout",
     "output_type": "stream",
     "text": [
      "DomainList : ./Tutorial/InputData/Domainist.txt\n",
      "\n",
      "IfaceList : ./Tutorial/InputData/Ifacelist.txt\n",
      "\n"
     ]
    }
   ],
   "source": [
    "world=SiCroF()\n",
    "world.solver.importDomains(\"Tutorial/InputData/Domainist.txt\")\n",
    "world.solver.importInterfaces(\"Tutorial/InputData/Ifacelist.txt\")"
   ]
  },
  {
   "cell_type": "code",
   "execution_count": 3,
   "metadata": {},
   "outputs": [
    {
     "name": "stdout",
     "output_type": "stream",
     "text": [
      "SimulationTime : 2.0sec\n",
      "\n",
      "TimeStep : 4 steps\n",
      "\n",
      "Successfully exported : log_solver.f90\n",
      "Now Running Simulation...\n",
      "Simulation is done!\n",
      "Please Download ***.pos files to check results\n"
     ]
    }
   ],
   "source": [
    "world.solver.setSimulationTime(2.0)\n",
    "world.solver.setTimeStep(4)\n",
    "world.solver.run()"
   ]
  },
  {
   "cell_type": "code",
   "execution_count": null,
   "metadata": {},
   "outputs": [],
   "source": []
  }
 ],
 "metadata": {
  "kernelspec": {
   "display_name": "Python 3",
   "language": "python",
   "name": "python3"
  },
  "language_info": {
   "codemirror_mode": {
    "name": "ipython",
    "version": 3
   },
   "file_extension": ".py",
   "mimetype": "text/x-python",
   "name": "python",
   "nbconvert_exporter": "python",
   "pygments_lexer": "ipython3",
   "version": "3.6.8"
  }
 },
 "nbformat": 4,
 "nbformat_minor": 2
}
