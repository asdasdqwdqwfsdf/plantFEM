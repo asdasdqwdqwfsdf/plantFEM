{
 "cells": [
  {
   "cell_type": "code",
   "execution_count": 1,
   "metadata": {},
   "outputs": [],
   "source": [
    "import cv2, matplotlib\n",
    "import numpy as np\n",
    "import matplotlib.pyplot as plt\n",
    "\n",
    "# Load an color image in grayscale\n",
    "img = cv2.imread('Tutorial/LeafImageData/grass.jpg',0)"
   ]
  },
  {
   "cell_type": "code",
   "execution_count": 2,
   "metadata": {},
   "outputs": [],
   "source": [
    "cv2.imshow('Tutorial/LeafImageData/grass.jpg',img)\n",
    "cv2.waitKey(0)\n",
    "cv2.destroyAllWindows()"
   ]
  },
  {
   "cell_type": "code",
   "execution_count": 3,
   "metadata": {},
   "outputs": [],
   "source": [
    "# get binary image and apply Gaussian blur\n",
    "coins = cv2.imread('Tutorial/LeafImageData/grass.jpg')\n",
    "coins_gray = cv2.cvtColor(coins, cv2.COLOR_BGR2GRAY)\n",
    "coins_preprocessed = cv2.GaussianBlur(coins_gray, (5, 5), 0)\n",
    " \n",
    "# get binary image\n",
    "_, coins_binary = cv2.threshold(coins_preprocessed, 130, 255, cv2.THRESH_BINARY)\n",
    " \n",
    "# invert image to get coins\n",
    "coins_binary = cv2.bitwise_not(coins_binary)"
   ]
  },
  {
   "cell_type": "code",
   "execution_count": null,
   "metadata": {},
   "outputs": [],
   "source": []
  },
  {
   "cell_type": "code",
   "execution_count": 4,
   "metadata": {},
   "outputs": [
    {
     "name": "stdout",
     "output_type": "stream",
     "text": [
      "number of coins: 1\n"
     ]
    }
   ],
   "source": [
    "# find contours\n",
    "coins_contours, _ = cv2.findContours(coins_binary, cv2.RETR_EXTERNAL, cv2.CHAIN_APPROX_SIMPLE)\n",
    " \n",
    "# make copy of image\n",
    "coins_and_contours = np.copy(coins)\n",
    " \n",
    "# find contours of large enough area\n",
    "min_coin_area = 60\n",
    "large_contours = [cnt for cnt in coins_contours if cv2.contourArea(cnt) > min_coin_area]\n",
    " \n",
    "# draw contours\n",
    "cv2.drawContours(coins_and_contours, large_contours, -1, (255,0,0))\n",
    " \n",
    "# print number of contours\n",
    "print('number of coins: %d' % len(large_contours))"
   ]
  },
  {
   "cell_type": "code",
   "execution_count": null,
   "metadata": {},
   "outputs": [],
   "source": [
    "plt.imshow"
   ]
  },
  {
   "cell_type": "code",
   "execution_count": null,
   "metadata": {},
   "outputs": [],
   "source": []
  }
 ],
 "metadata": {
  "kernelspec": {
   "display_name": "Python 3",
   "language": "python",
   "name": "python3"
  },
  "language_info": {
   "codemirror_mode": {
    "name": "ipython",
    "version": 3
   },
   "file_extension": ".py",
   "mimetype": "text/x-python",
   "name": "python",
   "nbconvert_exporter": "python",
   "pygments_lexer": "ipython3",
   "version": "3.6.8"
  }
 },
 "nbformat": 4,
 "nbformat_minor": 2
}
